{
 "cells": [
  {
   "cell_type": "code",
   "execution_count": 216,
   "metadata": {},
   "outputs": [],
   "source": [
    "import numpy as np\n",
    "\n",
    "def life_step(X):\n",
    "    live_neighbors = sum(np.roll(np.roll(X, i, 0), j, 1)\n",
    "                     for i in (-1, 0, 1) for j in (-1, 0, 1)\n",
    "                     if (i != 0 or j != 0))\n",
    "    return (live_neighbors == 3) | (X & (live_neighbors == 2)).astype(int)"
   ]
  },
  {
   "cell_type": "code",
   "execution_count": 217,
   "metadata": {},
   "outputs": [],
   "source": [
    "import matplotlib.pyplot as plt\n",
    "\n",
    "def generate_frames(num_frames, board_shape=(100,100), prob_alive=0.15):\n",
    "    return np.array([\n",
    "        np.random.choice([False, True], size=board_shape, p=[1-prob_alive, prob_alive])\n",
    "        for _ in range(num_frames)\n",
    "    ]).astype(int)\n",
    "\n",
    "def render_frames(frame1, frame2):\n",
    "    plt.subplot(1, 2, 1)\n",
    "    plt.imshow(frame1.flatten().reshape(board_shape), cmap='gray')\n",
    "\n",
    "    plt.subplot(1, 2, 2)\n",
    "    plt.imshow(frame2.flatten().reshape(board_shape), cmap='gray')"
   ]
  },
  {
   "cell_type": "code",
   "execution_count": 218,
   "metadata": {},
   "outputs": [
    {
     "name": "stdout",
     "output_type": "stream",
     "text": [
      "(10, 40, 40)\n"
     ]
    }
   ],
   "source": [
    "board_shape = (40, 40)\n",
    "board_size = board_shape[0] * board_shape[1]\n",
    "probability_alive = 0.15\n",
    "\n",
    "frames = generate_frames(10, board_shape=board_shape, prob_alive=probability_alive)\n",
    "print(frames.shape) # (num_frames, board_w, board_h)"
   ]
  },
  {
   "cell_type": "code",
   "execution_count": 219,
   "metadata": {},
   "outputs": [
    {
     "data": {
      "image/png": "[encoded data removed]",
      "text/plain": [
       "<Figure size 432x288 with 2 Axes>"
      ]
     },
     "metadata": {
      "needs_background": "light"
     },
     "output_type": "display_data"
    }
   ],
   "source": [
    "render_frames(frames[1], life_step(frames[1]))"
   ]
  },
  {
   "cell_type": "code",
   "execution_count": 220,
   "metadata": {},
   "outputs": [
    {
     "data": {
      "image/png": "[encoded data removed]",
      "text/plain": [
       "<Figure size 432x288 with 2 Axes>"
      ]
     },
     "metadata": {
      "needs_background": "light"
     },
     "output_type": "display_data"
    }
   ],
   "source": [
    "render_frames(life_step(frames[1]), life_step(life_step(frames[1])))"
   ]
  },
  {
   "cell_type": "code",
   "execution_count": 221,
   "metadata": {},
   "outputs": [],
   "source": [
    "def reshape_input(X):\n",
    "    return X.reshape(X.shape[0], X.shape[1], X.shape[2], 1)\n",
    "\n",
    "def generate_dataset(num_frames, board_shape, prob_alive):\n",
    "    X = generate_frames(num_frames, board_shape=board_shape, prob_alive=prob_alive)\n",
    "    X = reshape_input(X)\n",
    "    y = np.array([\n",
    "        life_step(frame) \n",
    "        for frame in X\n",
    "    ])\n",
    "    return X, y\n",
    "\n",
    "train_size = 70000\n",
    "val_size   = 10000\n",
    "test_size  = 20000"
   ]
  },
  {
   "cell_type": "code",
   "execution_count": 222,
   "metadata": {},
   "outputs": [
    {
     "name": "stdout",
     "output_type": "stream",
     "text": [
      "Training Set:\n",
      "(70000, 40, 40, 1)\n",
      "(70000, 40, 40, 1)\n",
      "Validation Set:\n",
      "(10000, 40, 40, 1)\n",
      "(10000, 40, 40, 1)\n",
      "Test Set:\n",
      "(20000, 40, 40, 1)\n",
      "(20000, 40, 40, 1)\n"
     ]
    }
   ],
   "source": [
    "print(\"Training Set:\")\n",
    "X_train, y_train = generate_dataset(train_size, board_shape, probability_alive)\n",
    "print(X_train.shape)\n",
    "print(y_train.shape)\n",
    "\n",
    "print(\"Validation Set:\")\n",
    "X_val, y_val = generate_dataset(val_size, board_shape, probability_alive)\n",
    "print(X_val.shape)\n",
    "print(y_val.shape)\n",
    "\n",
    "print(\"Test Set:\")\n",
    "X_test, y_test = generate_dataset(test_size, board_shape, probability_alive)\n",
    "print(X_test.shape)\n",
    "print(y_test.shape)"
   ]
  },
  {
   "cell_type": "code",
   "execution_count": 223,
   "metadata": {},
   "outputs": [
    {
     "name": "stdout",
     "output_type": "stream",
     "text": [
      "(70000, 42, 42, 1)\n",
      "(10000, 42, 42, 1)\n",
      "(20000, 42, 42, 1)\n"
     ]
    }
   ],
   "source": [
    "def pad_input(X):\n",
    "    return reshape_input(np.array([\n",
    "        np.pad(x.reshape(board_shape), (1,1), mode='wrap')\n",
    "        for x in X\n",
    "    ]))\n",
    "\n",
    "X_train_padded = pad_input(X_train)\n",
    "X_val_padded = pad_input(X_val)\n",
    "X_test_padded = pad_input(X_test)\n",
    "\n",
    "print(X_train_padded.shape)\n",
    "print(X_val_padded.shape)\n",
    "print(X_test_padded.shape)"
   ]
  },
  {
   "cell_type": "code",
   "execution_count": 224,
   "metadata": {},
   "outputs": [],
   "source": [
    "from keras.models import Sequential\n",
    "from keras.layers import Dense, Dropout, Activation, Conv2D, MaxPool2D\n",
    "\n",
    "\n",
    "def my_model(filters, hidden_dims):\n",
    "    # CNN Properties\n",
    "    kernel_size = (3, 3) # look at all 8 neighboring cells, plus itself\n",
    "    strides = 1\n",
    "    \n",
    "    model = Sequential()\n",
    "    model.add(Conv2D(filters, kernel_size,padding='valid', activation='relu',\n",
    "                     strides=strides, input_shape=(board_shape[0] + 2, board_shape[1] + 2, 1)))\n",
    "    # model.add(Dense(hidden_dims, input_shape=(20,20, 1)))\n",
    "    model.add(Dense(hidden_dims))\n",
    "    model.add(Dense(1))\n",
    "    model.add(Activation('sigmoid'))\n",
    "\n",
    "    model.compile(loss='binary_crossentropy', optimizer='adam', metrics=['accuracy'])\n",
    "    \n",
    "    return model"
   ]
  },
  {
   "cell_type": "code",
   "execution_count": 230,
   "metadata": {},
   "outputs": [
    {
     "name": "stdout",
     "output_type": "stream",
     "text": [
      "_________________________________________________________________\n",
      "Layer (type)                 Output Shape              Param #   \n",
      "=================================================================\n",
      "conv2d_7 (Conv2D)            (None, 20, 20, 60)        600       \n",
      "_________________________________________________________________\n",
      "dense_29 (Dense)             (None, 20, 20, 20)        1220      \n",
      "_________________________________________________________________\n",
      "dense_30 (Dense)             (None, 20, 20, 1)         21        \n",
      "_________________________________________________________________\n",
      "activation_15 (Activation)   (None, 20, 20, 1)         0         \n",
      "=================================================================\n",
      "Total params: 1,841\n",
      "Trainable params: 1,841\n",
      "Non-trainable params: 0\n",
      "_________________________________________________________________\n"
     ]
    }
   ],
   "source": [
    "model.summary()"
   ]
  },
  {
   "cell_type": "code",
   "execution_count": 226,
   "metadata": {},
   "outputs": [],
   "source": [
    "def train(model, X_train, y_train, X_val, y_val, batch_size=50, epochs=2, filename_suffix=''):\n",
    "    model.fit(\n",
    "        X_train, y_train, \n",
    "        batch_size=batch_size, \n",
    "        epochs=epochs,\n",
    "        validation_data=(X_val, y_val)\n",
    "    )\n",
    "    \n",
    "    res = model.evaluate(X_val, y_val)\n",
    "    \n",
    "    with open('cgol_cnn{}.json'.format(filename_suffix), 'w') as file:\n",
    "        file.write(model.to_json())\n",
    "    model.save_weights('cgol_cnn{}.h5'.format(filename_suffix))\n",
    "    \n",
    "    return res\n",
    "    \n",
    "def estimate(filters, hidden_dims, X_train, y_train, X_val, y_val):\n",
    "    model = my_model(filters, hidden_dims)\n",
    "    res = train(model, X_train_padded, y_train, X_val_padded, y_val, filename_suffix='_basic')\n",
    "    \n",
    "    return res[0], res[1]\n",
    "\n",
    "# estimate(50, 30, X_train_padded, y_train, X_val_padded, y_val)"
   ]
  },
  {
   "cell_type": "code",
   "execution_count": 212,
   "metadata": {},
   "outputs": [],
   "source": [
    "def grid_search():\n",
    "    filters = np.arange(1, 10, 2)\n",
    "    hidden_dims = np.arange(1, 10, 2)\n",
    "    \n",
    "    res = {}\n",
    "    for f in filters:\n",
    "        res.update({f:{}})\n",
    "        for h in hidden_dims:\n",
    "            val, acc = estimate(f, h, X_train_padded, y_train, X_val_padded, y_val)\n",
    "            \n",
    "            res[f].update({h:[val, acc]})\n",
    "            \n",
    "            print(f, h, ':', val, acc)\n",
    "    \n",
    "    return res"
   ]
  },
  {
   "cell_type": "code",
   "execution_count": 229,
   "metadata": {},
   "outputs": [
    {
     "name": "stdout",
     "output_type": "stream",
     "text": [
      "Train on 70000 samples, validate on 10000 samples\n",
      "Epoch 1/2\n",
      "70000/70000 [==============================] - 67s 952us/step - loss: 0.1498 - acc: 0.9544 - val_loss: 0.0428 - val_acc: 0.9896\n",
      "Epoch 2/2\n",
      "70000/70000 [==============================] - 64s 920us/step - loss: 0.0160 - acc: 0.9961 - val_loss: 0.0024 - val_acc: 1.0000\n",
      "10000/10000 [==============================] - 3s 344us/step\n"
     ]
    },
    {
     "data": {
      "text/plain": [
       "(0.0023953153271228074, 1.0)"
      ]
     },
     "execution_count": 229,
     "metadata": {},
     "output_type": "execute_result"
    }
   ],
   "source": [
    "estimate(9, 20, X_train_padded, y_train, X_val_padded, y_val)"
   ]
  },
  {
   "cell_type": "code",
   "execution_count": 213,
   "metadata": {},
   "outputs": [
    {
     "name": "stdout",
     "output_type": "stream",
     "text": [
      "Train on 70000 samples, validate on 10000 samples\n",
      "Epoch 1/2\n",
      "70000/70000 [==============================] - 18s 263us/step - loss: 0.3534 - acc: 0.8804 - val_loss: 0.1837 - val_acc: 0.8794\n",
      "Epoch 2/2\n",
      "70000/70000 [==============================] - 17s 240us/step - loss: 0.1093 - acc: 0.9434 - val_loss: 0.0703 - val_acc: 0.9783\n",
      "10000/10000 [==============================] - 1s 139us/step\n",
      "1 1 : 0.07025682343244552 0.9783042507171631\n",
      "Train on 70000 samples, validate on 10000 samples\n",
      "Epoch 1/2\n",
      "70000/70000 [==============================] - 19s 273us/step - loss: 0.3316 - acc: 0.8778 - val_loss: 0.1733 - val_acc: 0.9770\n",
      "Epoch 2/2\n",
      "70000/70000 [==============================] - 17s 242us/step - loss: 0.1665 - acc: 0.9787 - val_loss: 0.1670 - val_acc: 0.9783\n",
      "10000/10000 [==============================] - 2s 162us/step\n",
      "1 3 : 0.16701641466617584 0.9783042507171631\n",
      "Train on 70000 samples, validate on 10000 samples\n",
      "Epoch 1/2\n",
      "70000/70000 [==============================] - 23s 326us/step - loss: 0.3150 - acc: 0.8870 - val_loss: 0.0911 - val_acc: 0.9783\n",
      "Epoch 2/2\n",
      "70000/70000 [==============================] - 26s 364us/step - loss: 0.0665 - acc: 0.9787 - val_loss: 0.0618 - val_acc: 0.9783\n",
      "10000/10000 [==============================] - 2s 160us/step\n",
      "1 5 : 0.06181765547990799 0.9783042507171631\n",
      "Train on 70000 samples, validate on 10000 samples\n",
      "Epoch 1/2\n",
      "70000/70000 [==============================] - 21s 301us/step - loss: 0.3385 - acc: 0.8804 - val_loss: 0.2308 - val_acc: 0.8794\n",
      "Epoch 2/2\n",
      "70000/70000 [==============================] - 19s 275us/step - loss: 0.1133 - acc: 0.9472 - val_loss: 0.0615 - val_acc: 0.9783\n",
      "10000/10000 [==============================] - 1s 139us/step\n",
      "1 7 : 0.06146832385659218 0.9783042507171631\n",
      "Train on 70000 samples, validate on 10000 samples\n",
      "Epoch 1/2\n",
      "70000/70000 [==============================] - 21s 300us/step - loss: 0.3168 - acc: 0.8804 - val_loss: 0.2499 - val_acc: 0.8794\n",
      "Epoch 2/2\n",
      "70000/70000 [==============================] - 19s 275us/step - loss: 0.0838 - acc: 0.9652 - val_loss: 0.0613 - val_acc: 0.9783\n",
      "10000/10000 [==============================] - 2s 156us/step\n",
      "1 9 : 0.06130508669614792 0.9783042507171631\n",
      "Train on 70000 samples, validate on 10000 samples\n",
      "Epoch 1/2\n",
      "70000/70000 [==============================] - 20s 288us/step - loss: 0.2894 - acc: 0.9040 - val_loss: 0.1622 - val_acc: 0.9359\n",
      "Epoch 2/2\n",
      "70000/70000 [==============================] - 18s 252us/step - loss: 0.1109 - acc: 0.9713 - val_loss: 0.0828 - val_acc: 0.9783\n",
      "10000/10000 [==============================] - 2s 153us/step\n",
      "3 1 : 0.08279266456365586 0.9783042507171631\n",
      "Train on 70000 samples, validate on 10000 samples\n",
      "Epoch 1/2\n",
      "70000/70000 [==============================] - 21s 301us/step - loss: 0.2698 - acc: 0.8949 - val_loss: 0.0881 - val_acc: 0.9783\n",
      "Epoch 2/2\n",
      "70000/70000 [==============================] - 19s 266us/step - loss: 0.0660 - acc: 0.9787 - val_loss: 0.0617 - val_acc: 0.9783\n",
      "10000/10000 [==============================] - 2s 153us/step\n",
      "3 3 : 0.06170248740911484 0.9783042507171631\n",
      "Train on 70000 samples, validate on 10000 samples\n",
      "Epoch 1/2\n",
      "70000/70000 [==============================] - 20s 286us/step - loss: 0.2341 - acc: 0.9340 - val_loss: 0.1009 - val_acc: 0.9783\n",
      "Epoch 2/2\n",
      "70000/70000 [==============================] - 20s 292us/step - loss: 0.0676 - acc: 0.9803 - val_loss: 0.0278 - val_acc: 0.9986\n",
      "10000/10000 [==============================] - 2s 174us/step\n",
      "3 5 : 0.027837166941165923 0.998565749168396\n",
      "Train on 70000 samples, validate on 10000 samples\n",
      "Epoch 1/2\n",
      "70000/70000 [==============================] - 23s 324us/step - loss: 0.2652 - acc: 0.9097 - val_loss: 0.1049 - val_acc: 0.9569\n",
      "Epoch 2/2\n",
      "70000/70000 [==============================] - 19s 275us/step - loss: 0.0691 - acc: 0.9760 - val_loss: 0.0579 - val_acc: 0.9783\n",
      "10000/10000 [==============================] - 2s 160us/step\n",
      "3 7 : 0.05792545850872993 0.9783042507171631\n",
      "Train on 70000 samples, validate on 10000 samples\n",
      "Epoch 1/2\n",
      "70000/70000 [==============================] - 21s 301us/step - loss: 0.2337 - acc: 0.9234 - val_loss: 0.0907 - val_acc: 0.9783\n",
      "Epoch 2/2\n",
      "70000/70000 [==============================] - 17s 238us/step - loss: 0.0541 - acc: 0.9843 - val_loss: 0.0153 - val_acc: 1.0000\n",
      "10000/10000 [==============================] - 1s 139us/step\n",
      "3 9 : 0.01532017212510109 1.0\n",
      "Train on 70000 samples, validate on 10000 samples\n",
      "Epoch 1/2\n",
      "70000/70000 [==============================] - 19s 268us/step - loss: 0.2570 - acc: 0.9146 - val_loss: 0.1631 - val_acc: 0.9489\n",
      "Epoch 2/2\n",
      "70000/70000 [==============================] - 16s 228us/step - loss: 0.1426 - acc: 0.9604 - val_loss: 0.1041 - val_acc: 0.9783\n",
      "10000/10000 [==============================] - 1s 132us/step\n",
      "5 1 : 0.10411368629932403 0.9783042507171631\n",
      "Train on 70000 samples, validate on 10000 samples\n",
      "Epoch 1/2\n",
      "70000/70000 [==============================] - 29s 415us/step - loss: 0.2411 - acc: 0.9126 - val_loss: 0.1444 - val_acc: 0.9527\n",
      "Epoch 2/2\n",
      "70000/70000 [==============================] - 25s 360us/step - loss: 0.0933 - acc: 0.9728 - val_loss: 0.0374 - val_acc: 0.9812\n",
      "10000/10000 [==============================] - 2s 219us/step\n",
      "5 3 : 0.03744162992238998 0.9811997499465942\n",
      "Train on 70000 samples, validate on 10000 samples\n",
      "Epoch 1/2\n",
      "70000/70000 [==============================] - 23s 323us/step - loss: 0.2231 - acc: 0.9277 - val_loss: 0.1014 - val_acc: 0.9783\n",
      "Epoch 2/2\n",
      "70000/70000 [==============================] - 18s 251us/step - loss: 0.0684 - acc: 0.9798 - val_loss: 0.0305 - val_acc: 0.9969\n",
      "10000/10000 [==============================] - 1s 141us/step\n",
      "5 5 : 0.030468845176696777 0.9969374998092652\n",
      "Train on 70000 samples, validate on 10000 samples\n",
      "Epoch 1/2\n",
      "70000/70000 [==============================] - 22s 313us/step - loss: 0.2076 - acc: 0.9344 - val_loss: 0.1081 - val_acc: 0.9757\n",
      "Epoch 2/2\n",
      "70000/70000 [==============================] - 24s 343us/step - loss: 0.0689 - acc: 0.9794 - val_loss: 0.0281 - val_acc: 0.9957\n",
      "10000/10000 [==============================] - 3s 289us/step\n",
      "5 7 : 0.02805354278087616 0.9957062494277954\n",
      "Train on 70000 samples, validate on 10000 samples\n",
      "Epoch 1/2\n",
      "70000/70000 [==============================] - 46s 656us/step - loss: 0.1876 - acc: 0.9286 - val_loss: 0.0631 - val_acc: 0.9783\n",
      "Epoch 2/2\n",
      "70000/70000 [==============================] - 35s 498us/step - loss: 0.0606 - acc: 0.9787 - val_loss: 0.0610 - val_acc: 0.9783\n",
      "10000/10000 [==============================] - 4s 371us/step\n",
      "5 9 : 0.06096195720434189 0.9783042507171631\n",
      "Train on 70000 samples, validate on 10000 samples\n",
      "Epoch 1/2\n",
      "70000/70000 [==============================] - 31s 443us/step - loss: 0.2500 - acc: 0.9179 - val_loss: 0.1031 - val_acc: 0.9783\n",
      "Epoch 2/2\n",
      "70000/70000 [==============================] - 21s 301us/step - loss: 0.0790 - acc: 0.9787 - val_loss: 0.0651 - val_acc: 0.9783\n",
      "10000/10000 [==============================] - 2s 171us/step\n",
      "7 1 : 0.0650768991470337 0.9783042507171631\n",
      "Train on 70000 samples, validate on 10000 samples\n",
      "Epoch 1/2\n",
      "70000/70000 [==============================] - 26s 377us/step - loss: 0.2166 - acc: 0.9337 - val_loss: 0.1147 - val_acc: 0.9783\n",
      "Epoch 2/2\n",
      "70000/70000 [==============================] - 21s 297us/step - loss: 0.0727 - acc: 0.9811 - val_loss: 0.0261 - val_acc: 0.9991\n",
      "10000/10000 [==============================] - 2s 170us/step\n",
      "7 3 : 0.026086041557788847 0.999122001838684\n",
      "Train on 70000 samples, validate on 10000 samples\n",
      "Epoch 1/2\n",
      "70000/70000 [==============================] - 25s 357us/step - loss: 0.2203 - acc: 0.9353 - val_loss: 0.1180 - val_acc: 0.9731\n",
      "Epoch 2/2\n",
      "70000/70000 [==============================] - 21s 302us/step - loss: 0.0664 - acc: 0.9815 - val_loss: 0.0203 - val_acc: 1.0000\n",
      "10000/10000 [==============================] - 2s 171us/step\n",
      "7 5 : 0.02027419107854366 1.0\n",
      "Train on 70000 samples, validate on 10000 samples\n",
      "Epoch 1/2\n",
      "70000/70000 [==============================] - 33s 467us/step - loss: 0.1884 - acc: 0.9286 - val_loss: 0.0626 - val_acc: 0.9783\n",
      "Epoch 2/2\n",
      "70000/70000 [==============================] - 21s 293us/step - loss: 0.0605 - acc: 0.9787 - val_loss: 0.0610 - val_acc: 0.9783\n",
      "10000/10000 [==============================] - 1s 146us/step\n",
      "7 7 : 0.06095440193414688 0.9783042507171631\n",
      "Train on 70000 samples, validate on 10000 samples\n",
      "Epoch 1/2\n"
     ]
    },
    {
     "name": "stdout",
     "output_type": "stream",
     "text": [
      "70000/70000 [==============================] - 26s 368us/step - loss: 0.2027 - acc: 0.9305 - val_loss: 0.1099 - val_acc: 0.9667\n",
      "Epoch 2/2\n",
      "70000/70000 [==============================] - 24s 341us/step - loss: 0.0618 - acc: 0.9815 - val_loss: 0.0148 - val_acc: 0.9999\n",
      "10000/10000 [==============================] - 2s 191us/step\n",
      "7 9 : 0.014780740639567375 0.9999152490615845\n",
      "Train on 70000 samples, validate on 10000 samples\n",
      "Epoch 1/2\n",
      "70000/70000 [==============================] - 26s 365us/step - loss: 0.2212 - acc: 0.9066 - val_loss: 0.0830 - val_acc: 0.9783\n",
      "Epoch 2/2\n",
      "70000/70000 [==============================] - 24s 345us/step - loss: 0.0658 - acc: 0.9787 - val_loss: 0.0615 - val_acc: 0.9783\n",
      "10000/10000 [==============================] - 1s 148us/step\n",
      "9 1 : 0.061500451135635376 0.9783042507171631\n",
      "Train on 70000 samples, validate on 10000 samples\n",
      "Epoch 1/2\n",
      "70000/70000 [==============================] - 27s 391us/step - loss: 0.2252 - acc: 0.9216 - val_loss: 0.1532 - val_acc: 0.9449\n",
      "Epoch 2/2\n",
      "70000/70000 [==============================] - 20s 286us/step - loss: 0.1481 - acc: 0.9482 - val_loss: 0.1473 - val_acc: 0.9493\n",
      "10000/10000 [==============================] - 2s 169us/step\n",
      "9 3 : 0.1472639236688614 0.9493042505264282\n",
      "Train on 70000 samples, validate on 10000 samples\n",
      "Epoch 1/2\n",
      "70000/70000 [==============================] - 21s 301us/step - loss: 0.2069 - acc: 0.9344 - val_loss: 0.1408 - val_acc: 0.9513\n",
      "Epoch 2/2\n",
      "70000/70000 [==============================] - 18s 255us/step - loss: 0.0838 - acc: 0.9722 - val_loss: 0.0282 - val_acc: 0.9984\n",
      "10000/10000 [==============================] - 1s 140us/step\n",
      "9 5 : 0.028150274640321733 0.9984402493476867\n",
      "Train on 70000 samples, validate on 10000 samples\n",
      "Epoch 1/2\n",
      "70000/70000 [==============================] - 22s 312us/step - loss: 0.1812 - acc: 0.9311 - val_loss: 0.0628 - val_acc: 0.9783\n",
      "Epoch 2/2\n",
      "70000/70000 [==============================] - 19s 265us/step - loss: 0.0606 - acc: 0.9787 - val_loss: 0.0610 - val_acc: 0.9783\n",
      "10000/10000 [==============================] - 1s 146us/step\n",
      "9 7 : 0.06096989686489105 0.9783042507171631\n",
      "Train on 70000 samples, validate on 10000 samples\n",
      "Epoch 1/2\n",
      "70000/70000 [==============================] - 23s 328us/step - loss: 0.1692 - acc: 0.9480 - val_loss: 0.0495 - val_acc: 0.9878\n",
      "Epoch 2/2\n",
      "70000/70000 [==============================] - 22s 309us/step - loss: 0.0169 - acc: 0.9966 - val_loss: 0.0049 - val_acc: 0.9986\n",
      "10000/10000 [==============================] - 2s 159us/step\n",
      "9 9 : 0.004865254104882479 0.9985934977531433\n"
     ]
    }
   ],
   "source": [
    "res = grid_search()"
   ]
  },
  {
   "cell_type": "code",
   "execution_count": 214,
   "metadata": {},
   "outputs": [],
   "source": [
    "import matplotlib.pyplot as plt\n",
    "\n",
    "def draw(res):\n",
    "    new_res = np.empty((len(res.keys()), len(res[list(res.keys())[0]].keys())), dtype=np.float32)\n",
    "    \n",
    "    y, x = np.mgrid[1:10:2,1:10:2]\n",
    "    for i, f in enumerate(res.keys()):\n",
    "        for j, h in enumerate(res[f].keys()):\n",
    "            new_res[i, j] = res[f][h][1]\n",
    "            \n",
    "    fig, ax = plt.subplots()\n",
    "    \n",
    "    cs = ax.pcolor(x, y, new_res, vmin=new_res.min(), vmax=1.0)\n",
    "    ax.set_xlabel('hidden dims')\n",
    "    ax.set_ylabel('filters')\n",
    "    plt.title('Accuracy')\n",
    "    cbar = fig.colorbar(cs)\n",
    "    # fig.tight_layout()\n",
    "    plt.show()\n"
   ]
  },
  {
   "cell_type": "code",
   "execution_count": 215,
   "metadata": {},
   "outputs": [
    {
     "data": {
      "image/png": "[encoded data removed]",
      "text/plain": [
       "<Figure size 432x288 with 2 Axes>"
      ]
     },
     "metadata": {
      "needs_background": "light"
     },
     "output_type": "display_data"
    }
   ],
   "source": [
    "draw(res)"
   ]
  },
  {
   "cell_type": "code",
   "execution_count": 211,
   "metadata": {},
   "outputs": [
    {
     "name": "stdout",
     "output_type": "stream",
     "text": [
      "{10: {10: [0.0049917268142104145, 1.0], 20: [0.002323041494935751, 1.0], 30: [0.0006739855738356709, 1.0], 40: [0.0005032760108821094, 1.0], 50: [0.00034669535225257276, 1.0], 60: [0.0005449361698701978, 1.0], 70: [0.00028751354929991066, 1.0]}, 20: {10: [0.0016713927645236255, 1.0], 20: [0.0006145367758348584, 1.0], 30: [0.0003186515621840954, 1.0], 40: [0.00028205871456302704, 1.0], 50: [0.0001892646566964686, 1.0], 60: [0.0001261173101840541, 1.0], 70: [0.00019986197506077587, 1.0]}, 30: {10: [0.0008309941967949271, 1.0], 20: [0.0003701884916052222, 1.0], 30: [0.00020127752975095063, 1.0], 40: [0.0001387106815353036, 1.0], 50: [8.86993563733995e-05, 1.0], 60: [0.00014200717804487795, 1.0], 70: [6.831289367983118e-05, 1.0]}, 40: {10: [0.0006441972935572267, 1.0], 20: [0.00020324618306476623, 1.0], 30: [0.00016875174762681126, 1.0], 40: [8.574107133317739e-05, 1.0], 50: [0.00012050596408080309, 1.0], 60: [0.00011112134053837508, 1.0], 70: [0.00010123330593341961, 1.0]}, 50: {10: [0.0005698630789294839, 1.0], 20: [0.0002293460756307468, 1.0], 30: [0.0001569669431541115, 1.0], 40: [0.00013292264842893929, 1.0], 50: [9.357536069583148e-05, 1.0], 60: [9.328359055798501e-05, 1.0], 70: [6.101058120839298e-05, 1.0]}}\n"
     ]
    }
   ],
   "source": [
    "print(res)"
   ]
  },
  {
   "cell_type": "code",
   "execution_count": 137,
   "metadata": {},
   "outputs": [
    {
     "data": {
      "text/plain": [
       "(2, 5, 4)"
      ]
     },
     "execution_count": 137,
     "metadata": {},
     "output_type": "execute_result"
    }
   ],
   "source": [
    "arr.shape"
   ]
  },
  {
   "cell_type": "code",
   "execution_count": null,
   "metadata": {},
   "outputs": [],
   "source": []
  }
 ],
 "metadata": {
  "kernelspec": {
   "display_name": "Python 3",
   "language": "python",
   "name": "python3"
  },
  "language_info": {
   "codemirror_mode": {
    "name": "ipython",
    "version": 3
   },
   "file_extension": ".py",
   "mimetype": "text/x-python",
   "name": "python",
   "nbconvert_exporter": "python",
   "pygments_lexer": "ipython3",
   "version": "3.6.8"
  }
 },
 "nbformat": 4,
 "nbformat_minor": 2
}
